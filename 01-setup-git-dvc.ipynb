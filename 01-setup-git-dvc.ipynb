{
 "cells": [
  {
   "cell_type": "markdown",
   "id": "6409eb0e-1aae-48be-aec7-e3204751f2aa",
   "metadata": {},
   "source": [
    "# Setup Git and DVC"
   ]
  },
  {
   "cell_type": "markdown",
   "id": "6ed16822-b282-4fb1-956a-d328bed57f02",
   "metadata": {},
   "source": [
    "First create the CodeCommit Repository"
   ]
  },
  {
   "cell_type": "code",
   "execution_count": 2,
   "id": "6294ed9b-fd88-4b37-ae88-44b10784da37",
   "metadata": {
    "tags": []
   },
   "outputs": [
    {
     "name": "stdout",
     "output_type": "stream",
     "text": [
      "Cloning into 'sagemaker-intel-classification'...\n",
      "warning: You appear to have cloned an empty repository.\n"
     ]
    }
   ],
   "source": [
    "# The role attached with sagemaker can only access resource with name starting from “sagemaker-“ \n",
    "! git clone https://git-codecommit.us-east-1.amazonaws.com/v1/repos/sagemaker-intel-classification"
   ]
  },
  {
   "cell_type": "code",
   "execution_count": 3,
   "id": "d18c7b8e-31f5-46ac-96cf-1be4a8db2a68",
   "metadata": {
    "tags": []
   },
   "outputs": [],
   "source": [
    "! git config --global user.email \"sushantgautm@gmail.com\"\n",
    "! git config --global user.name \"sushant\"\n",
    "\n",
    "! git config --global credential.helper '!aws codecommit credential-helper $@'\n",
    "! git config --global credential.UseHttpPath true"
   ]
  },
  {
   "cell_type": "code",
   "execution_count": 4,
   "id": "05c65eac-9c18-4ee5-bbef-a56512759383",
   "metadata": {
    "tags": []
   },
   "outputs": [
    {
     "name": "stdout",
     "output_type": "stream",
     "text": [
      "\u001b[31mERROR: pip's dependency resolver does not currently take into account all the packages that are installed. This behaviour is the source of the following dependency conflicts.\n",
      "sagemaker 2.110.0 requires boto3<2.0,>=1.20.21, but you have boto3 1.17.106 which is incompatible.\n",
      "awscli 1.25.85 requires botocore==1.27.84, but you have botocore 1.20.106 which is incompatible.\n",
      "awscli 1.25.85 requires PyYAML<5.5,>=3.10, but you have pyyaml 6.0 which is incompatible.\n",
      "awscli 1.25.85 requires s3transfer<0.7.0,>=0.6.0, but you have s3transfer 0.4.2 which is incompatible.\u001b[0m\u001b[31m\n",
      "\u001b[0m\u001b[33mWARNING: Running pip as the 'root' user can result in broken permissions and conflicting behaviour with the system package manager. It is recommended to use a virtual environment instead: https://pip.pypa.io/warnings/venv\u001b[0m\u001b[33m\n",
      "\u001b[0m\n",
      "\u001b[1m[\u001b[0m\u001b[34;49mnotice\u001b[0m\u001b[1;39;49m]\u001b[0m\u001b[39;49m A new release of pip available: \u001b[0m\u001b[31;49m22.2.2\u001b[0m\u001b[39;49m -> \u001b[0m\u001b[32;49m22.3.1\u001b[0m\n",
      "\u001b[1m[\u001b[0m\u001b[34;49mnotice\u001b[0m\u001b[1;39;49m]\u001b[0m\u001b[39;49m To update, run: \u001b[0m\u001b[32;49mpip install --upgrade pip\u001b[0m\n"
     ]
    }
   ],
   "source": [
    "! pip install --quiet \"dvc[s3]==2.8.3\""
   ]
  },
  {
   "cell_type": "code",
   "execution_count": 5,
   "id": "bcf73704-c0a5-4b62-9aa1-8f3f3631a7cc",
   "metadata": {
    "tags": []
   },
   "outputs": [
    {
     "name": "stdout",
     "output_type": "stream",
     "text": [
      "/root/classification-project\n"
     ]
    }
   ],
   "source": [
    "! pwd"
   ]
  },
  {
   "cell_type": "code",
   "execution_count": 6,
   "id": "39fcf2f0-6a1c-4555-9c88-d6924f2752bc",
   "metadata": {
    "tags": []
   },
   "outputs": [
    {
     "name": "stdout",
     "output_type": "stream",
     "text": [
      "/root/classification-project/sagemaker-intel-classification\n"
     ]
    }
   ],
   "source": [
    "%cd /root/classification-project/sagemaker-intel-classification"
   ]
  },
  {
   "cell_type": "code",
   "execution_count": 7,
   "id": "761eb25f-565d-42eb-8bf5-8c7cd51eed9d",
   "metadata": {
    "tags": []
   },
   "outputs": [
    {
     "name": "stdout",
     "output_type": "stream",
     "text": [
      "Initialized DVC repository.\n",
      "\n",
      "You can now commit the changes to git.\n",
      "\n",
      "\u001b[31m+---------------------------------------------------------------------+\n",
      "\u001b[0m\u001b[31m|\u001b[0m                                                                     \u001b[31m|\u001b[0m\n",
      "\u001b[31m|\u001b[0m        DVC has enabled anonymous aggregate usage analytics.         \u001b[31m|\u001b[0m\n",
      "\u001b[31m|\u001b[0m     Read the analytics documentation (and how to opt-out) here:     \u001b[31m|\u001b[0m\n",
      "\u001b[31m|\u001b[0m             <\u001b[36mhttps://dvc.org/doc/user-guide/analytics\u001b[39m>              \u001b[31m|\u001b[0m\n",
      "\u001b[31m|\u001b[0m                                                                     \u001b[31m|\u001b[0m\n",
      "\u001b[31m+---------------------------------------------------------------------+\n",
      "\u001b[0m\n",
      "\u001b[33mWhat's next?\u001b[39m\n",
      "\u001b[33m------------\u001b[39m\n",
      "- Check out the documentation: <\u001b[36mhttps://dvc.org/doc\u001b[39m>\n",
      "- Get help and share ideas: <\u001b[36mhttps://dvc.org/chat\u001b[39m>\n",
      "- Star us on GitHub: <\u001b[36mhttps://github.com/iterative/dvc\u001b[39m>\n",
      "\u001b[0m"
     ]
    }
   ],
   "source": [
    "! dvc init"
   ]
  },
  {
   "cell_type": "code",
   "execution_count": 8,
   "id": "4e4c0df7-a16d-4f4f-94c0-c00bca2d4434",
   "metadata": {
    "tags": []
   },
   "outputs": [],
   "source": [
    "account = !(aws sts get-caller-identity --query Account --output text)\n",
    "account = account[0]"
   ]
  },
  {
   "cell_type": "code",
   "execution_count": 9,
   "id": "a485d2e3-baa6-45ea-b1f3-be3d7e6d34ba",
   "metadata": {
    "tags": []
   },
   "outputs": [],
   "source": [
    "region = ! (python -c \"import boto3;print(boto3.Session().region_name)\")\n",
    "region = region[0]"
   ]
  },
  {
   "cell_type": "code",
   "execution_count": 10,
   "id": "2bbb675d-d840-4937-a8b5-26c25679a73d",
   "metadata": {
    "tags": []
   },
   "outputs": [
    {
     "data": {
      "text/plain": [
       "'account = 629171115321, region = us-east-1'"
      ]
     },
     "execution_count": 10,
     "metadata": {},
     "output_type": "execute_result"
    }
   ],
   "source": [
    "f\"account = {account}, region = {region}\""
   ]
  },
  {
   "cell_type": "code",
   "execution_count": 11,
   "id": "6f636aa1-855a-43a0-82d4-a1440126d3ea",
   "metadata": {
    "tags": []
   },
   "outputs": [
    {
     "name": "stdout",
     "output_type": "stream",
     "text": [
      "Setting 'storage' as a default remote.\n",
      "\u001b[0m[master (root-commit) ba222a1] Initialize DVC S3 remote\n",
      " 1 file changed, 4 insertions(+)\n",
      " create mode 100644 .dvc/config\n",
      "\u001b[0m\u001b[0m"
     ]
    }
   ],
   "source": [
    "# Set the DVC remote storage to S3 - uses the sagemaker standard default bucket\n",
    "! dvc remote add -d storage s3://sagemaker-\"{region}\"-\"{account}\"/sagemaker-intel-dvc\n",
    "! git commit .dvc/config -m \"Initialize DVC S3 remote\"\n",
    "\n",
    "# set the DVC cache to S3\n",
    "! dvc remote add s3cache s3://sagemaker-\"{region}\"-\"{account}\"/sagemaker-intel-dvc/cache\n",
    "! dvc config cache.s3 s3cache"
   ]
  },
  {
   "cell_type": "code",
   "execution_count": 12,
   "id": "eec30777-25d2-4e9f-a9e3-34a98ec07f66",
   "metadata": {
    "tags": []
   },
   "outputs": [
    {
     "name": "stdout",
     "output_type": "stream",
     "text": [
      "storage\ts3://sagemaker-us-east-1-629171115321/sagemaker-intel-dvc\n",
      "s3cache\ts3://sagemaker-us-east-1-629171115321/sagemaker-intel-dvc/cache\n",
      "\u001b[0m"
     ]
    }
   ],
   "source": [
    "! dvc remote list"
   ]
  },
  {
   "cell_type": "code",
   "execution_count": 13,
   "id": "cd261993-5415-43cc-bf00-ce3b211ef4bd",
   "metadata": {
    "tags": []
   },
   "outputs": [
    {
     "name": "stdout",
     "output_type": "stream",
     "text": [
      "\u001b[0m"
     ]
    }
   ],
   "source": [
    "# disable sending anonymized data to dvc for troubleshooting\n",
    "! dvc config core.analytics false"
   ]
  },
  {
   "cell_type": "code",
   "execution_count": 14,
   "id": "e6dd3c95-cc86-4868-b513-c195cecbeae5",
   "metadata": {},
   "outputs": [
    {
     "name": "stdout",
     "output_type": "stream",
     "text": [
      "[master 98fa7b4] update dvc config\n",
      " 9 files changed, 520 insertions(+)\n",
      " create mode 100644 .dvc/.gitignore\n",
      " create mode 100644 .dvc/plots/confusion.json\n",
      " create mode 100644 .dvc/plots/confusion_normalized.json\n",
      " create mode 100644 .dvc/plots/linear.json\n",
      " create mode 100644 .dvc/plots/scatter.json\n",
      " create mode 100644 .dvc/plots/simple.json\n",
      " create mode 100644 .dvc/plots/smooth.json\n",
      " create mode 100644 .dvcignore\n"
     ]
    }
   ],
   "source": [
    "! git add .dvc/config\n",
    "! git commit -m 'update dvc config'"
   ]
  },
  {
   "cell_type": "code",
   "execution_count": 15,
   "id": "a2742563-1c2f-495d-ad35-2a40226440fe",
   "metadata": {
    "tags": []
   },
   "outputs": [
    {
     "name": "stdout",
     "output_type": "stream",
     "text": [
      "Enumerating objects: 17, done.\n",
      "Counting objects: 100% (17/17), done.\n",
      "Delta compression using up to 2 threads\n",
      "Compressing objects: 100% (14/14), done.\n",
      "Writing objects: 100% (17/17), 2.91 KiB | 229.00 KiB/s, done.\n",
      "Total 17 (delta 6), reused 0 (delta 0)\n",
      "remote: Validating objects: 100%\u001b[K\n",
      "To https://git-codecommit.us-east-1.amazonaws.com/v1/repos/sagemaker-intel-classification\n",
      " * [new branch]      master -> master\n",
      "Branch 'master' set up to track remote branch 'master' from 'origin'.\n"
     ]
    }
   ],
   "source": [
    "! git push --set-upstream origin master #--force"
   ]
  },
  {
   "cell_type": "code",
   "execution_count": null,
   "id": "4c1e8f0e-669d-4ba8-b23f-8a46b6ce0a19",
   "metadata": {},
   "outputs": [],
   "source": []
  }
 ],
 "metadata": {
  "kernelspec": {
   "display_name": "Python 3 (PyTorch 1.12 Python 3.8 CPU Optimized)",
   "language": "python",
   "name": "python3__SAGEMAKER_INTERNAL__arn:aws:sagemaker:us-east-1:081325390199:image/pytorch-1.12-cpu-py38"
  },
  "language_info": {
   "codemirror_mode": {
    "name": "ipython",
    "version": 3
   },
   "file_extension": ".py",
   "mimetype": "text/x-python",
   "name": "python",
   "nbconvert_exporter": "python",
   "pygments_lexer": "ipython3",
   "version": "3.8.13"
  }
 },
 "nbformat": 4,
 "nbformat_minor": 5
}
